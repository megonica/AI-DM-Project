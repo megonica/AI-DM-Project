{
 "cells": [
  {
   "cell_type": "code",
   "execution_count": null,
   "id": "3d475a71",
   "metadata": {},
   "outputs": [],
   "source": [
    "! pip install --upgrade tensorflow_hub\n",
    "! pip install tensorflow-text"
   ]
  },
  {
   "cell_type": "code",
   "execution_count": null,
   "id": "78aef975",
   "metadata": {},
   "outputs": [],
   "source": [
    "import tensorflow as tf\n",
    "import tensorflow_hub as hub\n",
    "import tensorflow_text as text\n",
    "import pandas as pd"
   ]
  },
  {
   "cell_type": "code",
   "execution_count": null,
   "id": "39940dab",
   "metadata": {},
   "outputs": [],
   "source": [
    "from sklearn.feature_extraction.text import TfidfVectorizer"
   ]
  },
  {
   "cell_type": "code",
   "execution_count": null,
   "id": "fca69b98",
   "metadata": {},
   "outputs": [],
   "source": [
    "train_df = pd.read_json('train.json')\n",
    "print(train_df.shape)\n",
    "train_df"
   ]
  },
  {
   "cell_type": "code",
   "execution_count": null,
   "id": "3379caf3",
   "metadata": {},
   "outputs": [],
   "source": [
    "train_df['sentiments'].value_counts()"
   ]
  },
  {
   "cell_type": "code",
   "execution_count": null,
   "id": "eff53936",
   "metadata": {},
   "outputs": [],
   "source": [
    "# Class count\n",
    "count_good, count_bad = train_df['sentiments'].value_counts()\n",
    "\n",
    "# Divide by class\n",
    "train_df_good = train_df[train_df['sentiments'] == 1]\n",
    "train_df_bad = train_df[train_df['sentiments'] == 0]\n"
   ]
  },
  {
   "cell_type": "code",
   "execution_count": null,
   "id": "d1a0c101",
   "metadata": {},
   "outputs": [],
   "source": [
    "count_good, count_bad"
   ]
  },
  {
   "cell_type": "code",
   "execution_count": null,
   "id": "29d16bb4",
   "metadata": {},
   "outputs": [],
   "source": [
    "train_df_bad_oversampled = train_df_bad.sample(count_good, replace=True)\n",
    "\n",
    "train_df_balanced = pd.concat([train_df_good, train_df_bad_oversampled], axis = 0)\n",
    "train_df_balanced.shape"
   ]
  },
  {
   "cell_type": "code",
   "execution_count": null,
   "id": "77e5f6a2",
   "metadata": {},
   "outputs": [],
   "source": [
    "train_df_balanced['sentiments'].value_counts()"
   ]
  },
  {
   "cell_type": "code",
   "execution_count": null,
   "id": "3d978255",
   "metadata": {},
   "outputs": [],
   "source": [
    "train_df_balanced"
   ]
  },
  {
   "cell_type": "code",
   "execution_count": null,
   "id": "edaff341",
   "metadata": {},
   "outputs": [],
   "source": [
    "train_df_balanced['reviews']"
   ]
  },
  {
   "cell_type": "code",
   "execution_count": null,
   "id": "ea0006db",
   "metadata": {},
   "outputs": [],
   "source": [
    "from sklearn.model_selection import train_test_split\n",
    "x_train, x_test, y_train, y_test = train_test_split(train_df_balanced['reviews'], train_df_balanced['sentiments'], test_size=0.20, random_state=0, stratify=train_df_balanced['sentiments'])"
   ]
  },
  {
   "cell_type": "code",
   "execution_count": null,
   "id": "ab49210d",
   "metadata": {},
   "outputs": [],
   "source": [
    "x_train.head(4)"
   ]
  },
  {
   "cell_type": "code",
   "execution_count": null,
   "id": "b8817108",
   "metadata": {},
   "outputs": [],
   "source": [
    "bert_preprocess = hub.KerasLayer(\"<path>/bert_en_uncased_preprocess_3.tar\")\n",
    "bert_encoder = hub.KerasLayer(\"<path>/bert_en_uncased_L-12_H-768_A-12_4.tar\")"
   ]
  },
  {
   "cell_type": "code",
   "execution_count": null,
   "id": "f9b0b65e",
   "metadata": {},
   "outputs": [],
   "source": [
    "bert_preprocess = hub.KerasLayer(\"https://tfhub.dev/tensorflow/bert_en_uncased_preprocess/3\")\n",
    "bert_encoder = hub.KerasLayer(\"https://tfhub.dev/tensorflow/bert_en_uncased_L-12_H-768_A-12/4\")"
   ]
  },
  {
   "cell_type": "code",
   "execution_count": null,
   "id": "6d083fe9",
   "metadata": {},
   "outputs": [],
   "source": [
    "# Bert Layers\n",
    "text_input = tf.keras.layers.Input(shape=(), dtype=tf.string, name=\"text\")\n",
    "preprocessed_text = bert_preprocess(text_input)\n",
    "outputs = bert_encoder(preprocessed_text)\n",
    "\n",
    "# Neural Network Layers\n",
    "l = tf.keras.layers.Dropout(0.1, name='dropout')(outputs['pooled_output'])\n",
    "l = tf.keras.layers.Dense(1, activation='sigmoid', name='output')(l)\n",
    "\n",
    "# Construct Final Model\n",
    "model = tf.keras.Model(inputs=[text_input], outputs=[l])"
   ]
  },
  {
   "cell_type": "code",
   "execution_count": null,
   "id": "2ac2ee23",
   "metadata": {},
   "outputs": [],
   "source": [
    "model.summary()"
   ]
  },
  {
   "cell_type": "code",
   "execution_count": null,
   "id": "2f79498b",
   "metadata": {},
   "outputs": [],
   "source": [
    "METRICS = [\n",
    "    tf.keras.metrics.BinaryAccuracy(name='accuracy'),\n",
    "    tf.keras.metrics.Precision(name='precision'),\n",
    "    tf.keras.metrics.Recall(name='recall')\n",
    "]\n",
    "\n",
    "model.compile(optimizer='adam',\n",
    "              loss='binary_crossentropy',\n",
    "              metrics=METRICS)"
   ]
  },
  {
   "cell_type": "code",
   "execution_count": null,
   "id": "36452851",
   "metadata": {
    "scrolled": true
   },
   "outputs": [],
   "source": [
    "model.fit(x_train, y_train, epochs=5)"
   ]
  },
  {
   "cell_type": "code",
   "execution_count": null,
   "id": "c93599da",
   "metadata": {},
   "outputs": [],
   "source": [
    "model.evaluate(x_test, y_test)"
   ]
  },
  {
   "cell_type": "code",
   "execution_count": null,
   "id": "199586ab",
   "metadata": {},
   "outputs": [],
   "source": [
    "y_predicted = model.predict(x_test)\n",
    "y_predicted = y_predicted.flatten()"
   ]
  },
  {
   "cell_type": "code",
   "execution_count": null,
   "id": "32ab5354",
   "metadata": {},
   "outputs": [],
   "source": [
    "import numpy as np\n",
    "\n",
    "y_predicted = np.where(y_predicted > 0.5, 1, 0)\n",
    "y_predicted"
   ]
  },
  {
   "cell_type": "code",
   "execution_count": null,
   "id": "232fff27",
   "metadata": {},
   "outputs": [],
   "source": [
    "from sklearn.metrics import confusion_matrix, classification_report\n",
    "\n",
    "cm = confusion_matrix(y_test, y_predicted)\n",
    "cm"
   ]
  },
  {
   "cell_type": "code",
   "execution_count": null,
   "id": "e80c2f22",
   "metadata": {},
   "outputs": [],
   "source": [
    "! pip install seaborn"
   ]
  },
  {
   "cell_type": "code",
   "execution_count": null,
   "id": "f84df2a5",
   "metadata": {},
   "outputs": [],
   "source": [
    "from matplotlib import pyplot as plt\n",
    "import seaborn as sn\n",
    "sn.heatmap(cm, annot=True, fmt='d')\n",
    "plt.xlabel('Predicted')\n",
    "plt.ylabel('Truth')"
   ]
  },
  {
   "cell_type": "code",
   "execution_count": null,
   "id": "a447c0e9",
   "metadata": {},
   "outputs": [],
   "source": [
    "print(classification_report(y_test, y_predicted))"
   ]
  },
  {
   "cell_type": "markdown",
   "id": "caced21c",
   "metadata": {},
   "source": []
  },
  {
   "cell_type": "markdown",
   "id": "695f414b",
   "metadata": {},
   "source": [
    "import keras.backend as K\n",
    "from keras.models import Sequential\n",
    "from keras.layers import Dense\n",
    "\n",
    "model = Sequential()\n",
    "model.add(Dense(1, input_shape=(1,)))\n",
    "model.add(Dense(1))\n",
    "model.compile(loss='mse', optimizer='adam')\n",
    "\n",
    "print(K.eval(model.optimizer.lr))"
   ]
  },
  {
   "cell_type": "markdown",
   "id": "5a2124d8",
   "metadata": {},
   "source": [
    "model.optimizer.get_config()"
   ]
  },
  {
   "cell_type": "markdown",
   "id": "3e84f3db",
   "metadata": {},
   "source": [
    "test_df = pd.read_json('test.json')\n",
    "test_df.head()\n",
    "print(test_df.shape)"
   ]
  },
  {
   "cell_type": "markdown",
   "id": "7d4109e8",
   "metadata": {},
   "source": [
    "test_review_preprocessed = bert_preprocess(test_df['reviews'])"
   ]
  },
  {
   "cell_type": "markdown",
   "id": "e8b34574",
   "metadata": {},
   "source": [
    "bert_encoder(test_review_preprocessed)['pooled_output']"
   ]
  },
  {
   "cell_type": "markdown",
   "id": "75420bfc",
   "metadata": {},
   "source": [
    "submission = pd.DataFrame({\n",
    "     \"Review\": list(test_df['reviews']),\n",
    "     \"Sentiments\":list(test_predictions),\n",
    "})\n",
    "submission.to_csv(\"submission.csv\", index=False)"
   ]
  },
  {
   "cell_type": "code",
   "execution_count": null,
   "id": "d76fe626",
   "metadata": {},
   "outputs": [],
   "source": []
  }
 ],
 "metadata": {
  "kernelspec": {
   "display_name": "Python 3",
   "language": "python",
   "name": "python3"
  },
  "language_info": {
   "codemirror_mode": {
    "name": "ipython",
    "version": 3
   },
   "file_extension": ".py",
   "mimetype": "text/x-python",
   "name": "python",
   "nbconvert_exporter": "python",
   "pygments_lexer": "ipython3",
   "version": "3.6.13"
  }
 },
 "nbformat": 4,
 "nbformat_minor": 5
}
